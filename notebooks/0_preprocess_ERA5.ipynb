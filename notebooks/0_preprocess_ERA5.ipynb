{
 "cells": [
  {
   "cell_type": "code",
   "execution_count": 7,
   "metadata": {},
   "outputs": [
    {
     "name": "stdout",
     "output_type": "stream",
     "text": [
      "The autoreload extension is already loaded. To reload it, use:\n",
      "  %reload_ext autoreload\n"
     ]
    }
   ],
   "source": [
    "%load_ext autoreload\n",
    "%autoreload 2"
   ]
  },
  {
   "cell_type": "code",
   "execution_count": 8,
   "metadata": {},
   "outputs": [],
   "source": [
    "import xarray as xr\n",
    "\n",
    "%matplotlib inline\n",
    "import matplotlib as mpl\n",
    "import matplotlib.pyplot as plt\n",
    "mpl.rcParams['figure.figsize'] = (15,8)"
   ]
  },
  {
   "cell_type": "code",
   "execution_count": 11,
   "metadata": {},
   "outputs": [
    {
     "name": "stdout",
     "output_type": "stream",
     "text": [
      "environmental_variables_01_2020.nc  thermodynamic_variables_02_2020.nc\n",
      "environmental_variables_02_2020.nc  thermodynamic_variables_03_2020.nc\n",
      "environmental_variables_03_2020.nc  thermodynamic_variables_11_2019.nc\n",
      "environmental_variables_11_2019.nc  thermodynamic_variables_12_2019.nc\n",
      "environmental_variables_12_2019.nc  thermodynamic_variables_2020.nc\n",
      "thermodynamic_variables_01_2020.nc\n"
     ]
    }
   ],
   "source": [
    "ls ../data/raw/environmental"
   ]
  },
  {
   "cell_type": "code",
   "execution_count": null,
   "metadata": {},
   "outputs": [],
   "source": [
    "ds = xr.open_mfdataset(\"../data/en\")"
   ]
  },
  {
   "cell_type": "code",
   "execution_count": null,
   "metadata": {},
   "outputs": [],
   "source": [
    "ds = xr.open_dataset(\"../data/thermodynamic_variables_2020.nc\", chunks={'time':50})\n",
    "ds['q2m'] = sat_specific_humidity(ds['d2m'], ds['sp'])\n",
    "ds = ds.resample(time='1D').mean().compute()\n",
    "ds.to_netcdf(\"../data/output/daily_spec_humidity_2020.nc\")"
   ]
  }
 ],
 "metadata": {
  "kernelspec": {
   "display_name": "Python 3",
   "language": "python",
   "name": "python3"
  },
  "language_info": {
   "codemirror_mode": {
    "name": "ipython",
    "version": 3
   },
   "file_extension": ".py",
   "mimetype": "text/x-python",
   "name": "python",
   "nbconvert_exporter": "python",
   "pygments_lexer": "ipython3",
   "version": "3.8.2"
  }
 },
 "nbformat": 4,
 "nbformat_minor": 4
}
